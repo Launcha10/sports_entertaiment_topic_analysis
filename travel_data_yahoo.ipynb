{
  "nbformat": 4,
  "nbformat_minor": 0,
  "metadata": {
    "colab": {
      "name": "travel_data3.ipynb",
      "provenance": [],
      "authorship_tag": "ABX9TyNuqadQmWgZcJE4Lz1CI6z9",
      "include_colab_link": true
    },
    "kernelspec": {
      "name": "python3",
      "display_name": "Python 3"
    },
    "accelerator": "GPU"
  },
  "cells": [
    {
      "cell_type": "markdown",
      "metadata": {
        "id": "view-in-github",
        "colab_type": "text"
      },
      "source": [
        "<a href=\"https://colab.research.google.com/github/hayashiman/sports_entertaiment_topic_analysis/blob/sub/travel_data_yahoo.ipynb\" target=\"_parent\"><img src=\"https://colab.research.google.com/assets/colab-badge.svg\" alt=\"Open In Colab\"/></a>"
      ]
    },
    {
      "cell_type": "code",
      "metadata": {
        "id": "UzwuguhKzN4u",
        "colab_type": "code",
        "colab": {}
      },
      "source": [
        "from google.colab import drive\n",
        "drive.mount('/content/drive')"
      ],
      "execution_count": 0,
      "outputs": []
    },
    {
      "cell_type": "code",
      "metadata": {
        "id": "imGijQakzV2U",
        "colab_type": "code",
        "colab": {}
      },
      "source": [
        "!pip install chardet"
      ],
      "execution_count": 0,
      "outputs": []
    },
    {
      "cell_type": "code",
      "metadata": {
        "id": "U1ocI34NzV9D",
        "colab_type": "code",
        "colab": {}
      },
      "source": [
        "import requests\n",
        "import pandas as pd\n",
        "from bs4 import BeautifulSoup\n",
        "import re"
      ],
      "execution_count": 0,
      "outputs": []
    },
    {
      "cell_type": "code",
      "metadata": {
        "id": "xL75j1kvzV_k",
        "colab_type": "code",
        "colab": {}
      },
      "source": [
        "#####URLをスクレイピングして、リンク先をスクレイピング"
      ],
      "execution_count": 0,
      "outputs": []
    },
    {
      "cell_type": "code",
      "metadata": {
        "id": "z37Gn6vazWCC",
        "colab_type": "code",
        "colab": {}
      },
      "source": [
        "#スクレイピング1回目(リンク)\n",
        "#base_url = \"https://news.yahoo.co.jp/search/?fr=news_sw&p=%E6%97%85%E8%A1%8C&ei=UTF-8&b=%d\".format(n)\n",
        "\n",
        "#1~100ページをの記事を取得\n",
        "for page in range(0,100):\n",
        "    n = page*10 + 1\n",
        "    base_url = \"https://news.yahoo.co.jp/search/?fr=news_sw&p=%E6%97%85%E8%A1%8C&ei=UTF-8&b={}\".format(n)\n",
        "    r = requests.get(base_url)\n",
        "    soup = BeautifulSoup(r.content,'lxml')\n",
        "\n",
        "    #aタグ、クラスc-presses-standard__linkのhref要素のみ抽出\n",
        "    links = [tag.get('href') for tag in soup('a')]\n",
        "\n",
        "    #関係のないURLを削除\n",
        "    #Noneを削除\n",
        "    none_links = [item for item in links if item]\n",
        "    #headlinesを含むurlのみでin_linksを作成\n",
        "    news_links = [s for s in none_links if 'headlines' in s]\n",
        "    #リスト内のurlの重複を消す\n",
        "    set_links = set(news_links)\n",
        "\n",
        "    #データ{n}という空のリストを作成\n",
        "    exec(\"data\" + str(page) + \"= []\")\n",
        "\n",
        "    for link in set_links:\n",
        "        url_link = link\n",
        "        \n",
        "        #スクレイピング2回目\n",
        "        r2 = requests.get(url_link)\n",
        "        soup2 = BeautifulSoup(r2.content,'lxml')\n",
        "        \n",
        "        #データ{n}リストにp要素を追加\n",
        "        exec(\"data\" + str(page) + \"+= [tag2.text for tag2 in soup2('p')]\")\n",
        "\n",
        "print(data33)"
      ],
      "execution_count": 0,
      "outputs": []
    },
    {
      "cell_type": "code",
      "metadata": {
        "id": "C_TgLnX90psi",
        "colab_type": "code",
        "colab": {}
      },
      "source": [
        "#フォーマットしたstr型に変更\n",
        "import pprint\n",
        "for n in range(0,100):\n",
        "\n",
        "    exec(\"str_data%d = pprint.pformat(data%d)\" % (n, n))\n",
        "    \n",
        "#print(str_data33)"
      ],
      "execution_count": 0,
      "outputs": []
    },
    {
      "cell_type": "code",
      "metadata": {
        "id": "t_Q7HB3vbCKF",
        "colab_type": "code",
        "colab": {}
      },
      "source": [
        "#文章を整形する関数\n",
        "def format_text(text):\n",
        "\n",
        "    text=re.sub(r'https?://[\\w/:%#\\$&\\?\\(\\)~\\.=\\+\\-…]+', \"\", text)\n",
        "    text=re.sub('現在JavaScriptが無効になっています。Yahoo!ニュースのすべての機能を利用するためには、JavaScriptの設定を有効にしてください。JavaScriptの設定を変更する方法はこちら。', \"\", text)\n",
        "    text=re.sub('アプリデータ先読みで、電車でもサクサク', \"\", text)\n",
        "    text=re.sub('お使いのInternet', \"\", text)\n",
        "    text=re.sub('Explorerは古いバージョンのため、正しく表示されない可能性があります。最新のバージョンにアップデートするか、別のブラウザーからご利用ください。', \"\", text)\n",
        "    text=re.sub('Twitterリアルタイムでニュースを配信', \"\", text)\n",
        "    ext=re.sub('Facebook編集部による厳選記事を毎日配信', \"\", text)\n",
        "    ext=re.sub('news HACKYahoo!ニュースのオウンドメディア', \"\", text)\n",
        "    ext=re.sub('条件指定', \"\", text)\n",
        "    text=re.sub(r'[!-~]', \"\", text)#半角記号,数字,英字\n",
        "    text=re.sub(r'[︰-＠]', \"\", text)#全角記号\n",
        "    #text=re.sub('\\n', \" \", text)#改行文字\n",
        "\n",
        "    return text"
      ],
      "execution_count": 0,
      "outputs": []
    },
    {
      "cell_type": "code",
      "metadata": {
        "id": "k6JVG1aJbzVj",
        "colab_type": "code",
        "colab": {}
      },
      "source": [
        "for n in range(0,100):\n",
        "\n",
        "    exec(\"text%d = format_text(str_data%d)\" % (n,n))\n",
        "\n",
        "#print(text33)"
      ],
      "execution_count": 0,
      "outputs": []
    },
    {
      "cell_type": "code",
      "metadata": {
        "id": "yVf6HEWPbzZT",
        "colab_type": "code",
        "colab": {}
      },
      "source": [
        "for n in range(0,100):\n",
        "\n",
        "    exec(\"lines%d = [line.strip() for line in text%d.splitlines()]\" % (n,n))\n",
        "\n",
        "#print(data33)"
      ],
      "execution_count": 0,
      "outputs": []
    },
    {
      "cell_type": "code",
      "metadata": {
        "id": "m03Ef1iZbzcq",
        "colab_type": "code",
        "colab": {}
      },
      "source": [
        "for n in range(0,100):\n",
        "  \n",
        "    exec('format_text%d = \"\"\"\\n\"\"\".join(line for line in lines%d if line)' % (n,n))\n",
        "\n",
        "#print(format_text33)"
      ],
      "execution_count": 0,
      "outputs": []
    },
    {
      "cell_type": "code",
      "metadata": {
        "id": "-D_DBCQNdBm1",
        "colab_type": "code",
        "colab": {}
      },
      "source": [
        "for n in range(0,100):\n",
        "    file = open('/content/drive/My Drive/ernie/travel_data/new_text3/yahoo_text%d.txt' % n, 'w')\n",
        "    exec(\"file.write(format_text%d)\" % n)\n",
        "    file.close()"
      ],
      "execution_count": 0,
      "outputs": []
    }
  ]
}