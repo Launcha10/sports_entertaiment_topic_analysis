{
  "nbformat": 4,
  "nbformat_minor": 0,
  "metadata": {
    "colab": {
      "name": "travel_data2.ipynb",
      "provenance": [],
      "collapsed_sections": [],
      "authorship_tag": "ABX9TyMBMsMrPisFB4XFIIjNDZ1Z",
      "include_colab_link": true
    },
    "kernelspec": {
      "name": "python3",
      "display_name": "Python 3"
    },
    "accelerator": "GPU"
  },
  "cells": [
    {
      "cell_type": "markdown",
      "metadata": {
        "id": "view-in-github",
        "colab_type": "text"
      },
      "source": [
        "<a href=\"https://colab.research.google.com/github/hayashiman/sports_entertaiment_topic_analysis/blob/sub/travel_data_kinarino.ipynb\" target=\"_parent\"><img src=\"https://colab.research.google.com/assets/colab-badge.svg\" alt=\"Open In Colab\"/></a>"
      ]
    },
    {
      "cell_type": "code",
      "metadata": {
        "id": "iash6z1BRAoh",
        "colab_type": "code",
        "colab": {}
      },
      "source": [
        "from google.colab import drive\n",
        "drive.mount('/content/drive')"
      ],
      "execution_count": 0,
      "outputs": []
    },
    {
      "cell_type": "code",
      "metadata": {
        "id": "xePIK-B-RG8q",
        "colab_type": "code",
        "colab": {}
      },
      "source": [
        "!pip install chardet"
      ],
      "execution_count": 0,
      "outputs": []
    },
    {
      "cell_type": "code",
      "metadata": {
        "id": "8ld58-gFd-_1",
        "colab_type": "code",
        "outputId": "387b9c55-b174-462d-b837-1b91b9ff07f6",
        "colab": {
          "base_uri": "https://localhost:8080/",
          "height": 34
        }
      },
      "source": [
        "!pip install lxml"
      ],
      "execution_count": 0,
      "outputs": [
        {
          "output_type": "stream",
          "text": [
            "Requirement already satisfied: lxml in /usr/local/lib/python3.6/dist-packages (4.2.6)\n"
          ],
          "name": "stdout"
        }
      ]
    },
    {
      "cell_type": "code",
      "metadata": {
        "id": "SyY2Y-0yRJpe",
        "colab_type": "code",
        "colab": {}
      },
      "source": [
        "import requests\n",
        "import pandas as pd\n",
        "from bs4 import BeautifulSoup\n",
        "import re\n",
        "import time"
      ],
      "execution_count": 0,
      "outputs": []
    },
    {
      "cell_type": "code",
      "metadata": {
        "id": "wS9mkC2pRJ0z",
        "colab_type": "code",
        "colab": {}
      },
      "source": [
        "#####URLをスクレイピングして、リンク先をスクレイピング"
      ],
      "execution_count": 0,
      "outputs": []
    },
    {
      "cell_type": "code",
      "metadata": {
        "id": "UbEKL_tAROoa",
        "colab_type": "code",
        "colab": {}
      },
      "source": [
        "#スクレイピング1回目(リンク)\n",
        "base_url = \"https://kinarino.jp/cat8?page=%s\"\n",
        "\n",
        "#1~4ページをの記事を取得\n",
        "for page in range(1,181):\n",
        "    \n",
        "    #10秒間隔\n",
        "    time.sleep(5)\n",
        "    print(str(page))\n",
        "\n",
        "    r = requests.get(base_url%page)\n",
        "    soup = BeautifulSoup(r.content,'lxml')\n",
        "\n",
        "    #aタグ、クラスc-presses-standard__linkのhref要素のみ抽出\n",
        "    links = [tag.get('href') for tag in soup('a')]\n",
        "\n",
        "    #関係のないURLを削除\n",
        "    #リスト内のurlの重複を消す\n",
        "    set_links = set(links)\n",
        "    #noneを削除\n",
        "    none_links = [item for item in set_links if item]\n",
        "    #cat8を含むurlのみでlinksを作成\n",
        "    cat8_links = [s for s in none_links if 'cat8-' in s]\n",
        "    #ランキングを除外する\n",
        "    rank_links1 = [s for s in cat8_links if '10171-' not in s]\n",
        "    rank_links2 = [s for s in rank_links1 if \"36911-\" not in s]\n",
        "    rank_links3 = [s for s in rank_links2 if \"33832-\" not in s]\n",
        "    rank_links4 = [s for s in rank_links3 if \"14788-\" not in s]\n",
        "    rank_links5 = [s for s in rank_links4 if \"11870-\" not in s]\n",
        "    \n",
        "    i = 1\n",
        "\n",
        "    #リンク先ページのurlを全部取得\n",
        "    for link in rank_links5:\n",
        "        url_link = 'https://kinarino.jp'+ link\n",
        "        \n",
        "\n",
        "        #スクレイピング2回目\n",
        "        r2 = requests.get(url_link)\n",
        "        soup2 = BeautifulSoup(r2.content,'lxml')\n",
        "\n",
        "        \n",
        "        exec(\"data\" + str(page) + \"_\" + str(i) + \"= [tag2.text for tag2 in soup2('p')]\")\n",
        "        i += 1\n",
        "        #exec(\"data\" + str(page) + \"+= [tag2.text for tag2 in soup2('p')]\")\n",
        "\n",
        "        #1秒間隔\n",
        "        time.sleep(1)\n",
        "\n",
        "\n",
        "    print(exec(\"data\" + str(page) + \"_\" + str(15)))"
      ],
      "execution_count": 0,
      "outputs": []
    },
    {
      "cell_type": "code",
      "metadata": {
        "id": "D-6-SqAnROvQ",
        "colab_type": "code",
        "colab": {}
      },
      "source": [
        "#フォーマットしたstr型に変更\n",
        "import pprint\n",
        "\n",
        "for n in range(2,181):\n",
        "    for i in range(1, 20):\n",
        "        exec(\"str_data%d_%d = pprint.pformat(data%d_%d)\" % (n, i, n, i))\n",
        "        #str_data = pprint.pformat(data)\n",
        "    \n",
        "print(str_data2_10)"
      ],
      "execution_count": 0,
      "outputs": []
    },
    {
      "cell_type": "code",
      "metadata": {
        "id": "qdcZes4OiQyf",
        "colab_type": "code",
        "colab": {}
      },
      "source": [
        "#文章を整形する関数\n",
        "def format_text(text):\n",
        "\n",
        "    text=re.sub(r'https?://[\\w/:%#\\$&\\?\\(\\)~\\.=\\+\\-…]+', \"\", text)\n",
        "    text=re.sub('あわせて読む', \"\", text)\n",
        "    text=re.sub('データ提供', \"\", text)\n",
        "    text=re.sub('出典', \"\", text)\n",
        "    text=re.sub('さんの投稿', \"\", text)\n",
        "    text=re.sub('円', \"\", text)\n",
        "    ext=re.sub('〜', \"\", text)\n",
        "    ext=re.sub('人', \"\", text)\n",
        "    ext=re.sub('引用元', \"\", text)\n",
        "    text=re.sub(r'[!-~]', \"\", text)#半角記号,数字,英字\n",
        "    text=re.sub(r'[︰-＠]', \"\", text)#全角記号\n",
        "    #text=re.sub('\\n', \" \", text)#改行文字\n",
        "\n",
        "    return text"
      ],
      "execution_count": 0,
      "outputs": []
    },
    {
      "cell_type": "code",
      "metadata": {
        "id": "8oD-HOyTinZT",
        "colab_type": "code",
        "colab": {}
      },
      "source": [
        "for n in range(2,181):\n",
        "    for i in range(1, 20):\n",
        "        exec(\"text%d_%d = format_text(str_data%d_%d)\" % (n,i,n,i))\n",
        "\n",
        "print(text2_15)"
      ],
      "execution_count": 0,
      "outputs": []
    },
    {
      "cell_type": "code",
      "metadata": {
        "id": "qZcB0K9RinoW",
        "colab_type": "code",
        "colab": {}
      },
      "source": [
        "for n in range(2,181):\n",
        "    for i in range(1, 20):\n",
        "\n",
        "        exec(\"lines%d_%d = [line.strip() for line in text%d_%d.splitlines()]\" % (n,i,n,i))\n",
        "\n",
        "print(lines2_16)"
      ],
      "execution_count": 0,
      "outputs": []
    },
    {
      "cell_type": "code",
      "metadata": {
        "id": "E7g5HNvzi5xG",
        "colab_type": "code",
        "colab": {}
      },
      "source": [
        "for n in range(2,181):\n",
        "    for i in range(1, 20):\n",
        "        exec('format_text%d_%d = \"\"\"\\n\"\"\".join(line for line in lines%d_%d if line)' % (n,i,n,i))\n",
        "\n",
        "print(format_text2_1)"
      ],
      "execution_count": 0,
      "outputs": []
    },
    {
      "cell_type": "code",
      "metadata": {
        "id": "UBaKZNXjmvKQ",
        "colab_type": "code",
        "colab": {}
      },
      "source": [
        "for n in range(2,181):\n",
        "    for i in range(1, 20):\n",
        "        file = open('/content/drive/My Drive/ernie/travel_data/new_new_text/text2/text%d_%d.txt' % (n,i), 'w')\n",
        "        exec(\"file.write(format_text%d_%d)\" % (n,i))\n",
        "        file.close()"
      ],
      "execution_count": 0,
      "outputs": []
    }
  ]
}